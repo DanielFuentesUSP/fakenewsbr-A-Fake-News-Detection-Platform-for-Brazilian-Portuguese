{
  "nbformat": 4,
  "nbformat_minor": 0,
  "metadata": {
    "interpreter": {
      "hash": "4e13b4e6a2339b9177f394100890b4275c358c92e2d14a3cbcee8c2400e7da61"
    },
    "kernelspec": {
      "display_name": "Python 3.9.6 64-bit ('pyr': conda)",
      "name": "python3"
    },
    "language_info": {
      "codemirror_mode": {
        "name": "ipython",
        "version": 3
      },
      "file_extension": ".py",
      "mimetype": "text/x-python",
      "name": "python",
      "nbconvert_exporter": "python",
      "pygments_lexer": "ipython3",
      "version": "3.9.6"
    },
    "orig_nbformat": 4,
    "colab": {
      "provenance": []
    }
  },
  "cells": [
    {
      "cell_type": "code",
      "metadata": {
        "id": "8JAzA1ucVaHM"
      },
      "source": [
        "import pandas as pd\n",
        "#https://www.kaggle.com/pierremegret/gensim-word2vec-tutorial"
      ],
      "execution_count": null,
      "outputs": []
    },
    {
      "cell_type": "code",
      "metadata": {
        "id": "m9-rtDHIVaHW"
      },
      "source": [
        "df_geral = pd.read_pickle('todas_noticias.pkl')\n",
        "df_geral = df_geral.dropna().drop_duplicates()"
      ],
      "execution_count": null,
      "outputs": []
    },
    {
      "cell_type": "markdown",
      "metadata": {
        "id": "jXVQaDMJVaHW"
      },
      "source": [
        "## Bigramas"
      ]
    },
    {
      "cell_type": "code",
      "metadata": {
        "id": "zucYUL8QVaHW"
      },
      "source": [
        "from gensim.models.phrases import Phrases, Phraser #Usamos o pacote do gensim para captar os bigramas\n",
        "\n",
        "#Prases() toma uma lista de palavras como input\n",
        "sent = [row.split() for row in df_geral['noticias_limpas']]\n",
        "\n",
        "#Construimos os bigramas relevantes\n",
        "phrases = Phrases(sent, min_count=30, progress_per=10000)\n",
        "\n",
        "#O Phraser() tem por objetivo cortar memémora do Phrases()\n",
        "bigram = Phraser(phrases)\n",
        "\n",
        "#Transforma o corpus nos bigramas detectados\n",
        "sentences = bigram[sent]\n"
      ],
      "execution_count": null,
      "outputs": []
    },
    {
      "cell_type": "code",
      "metadata": {
        "id": "pnC01eOLVaHX"
      },
      "source": [
        "#bigram.save('./phrase')"
      ],
      "execution_count": null,
      "outputs": []
    },
    {
      "cell_type": "markdown",
      "metadata": {
        "id": "ISmvSCpGVaHX"
      },
      "source": [
        "# Word2Vec"
      ]
    },
    {
      "cell_type": "code",
      "metadata": {
        "id": "Ej7c4r1LVaHX"
      },
      "source": [
        "import multiprocessing\n",
        "from gensim.models import Word2Vec\n",
        "\n",
        "cores = multiprocessing.cpu_count() # Conta o numero de cores no note"
      ],
      "execution_count": null,
      "outputs": []
    },
    {
      "cell_type": "markdown",
      "metadata": {
        "id": "1pcKQXQ6VaHX"
      },
      "source": [
        "## Instanciando o modelo"
      ]
    },
    {
      "cell_type": "code",
      "metadata": {
        "id": "d4Z4NL_pVaHX"
      },
      "source": [
        "w2v_model = Word2Vec(sg = 0, #Skipgram ou cbow\n",
        "                     min_count=20, #ignora todas as palavras com frequência absoluta menor que essa\n",
        "                     window=2, #distancia máxima da palavra atual pra palavra predita\n",
        "                     vector_size=300, #Dimensão do vetor\n",
        "                     sample=6e-5, #O limite para configurar quais palavras de alta frequência são aleatoriamente reduzidas\n",
        "                     alpha=0.03, #learning rate inicial\n",
        "                     min_alpha=0.0007, # o learning rate vai diminuindo linearmente até esse patamar\n",
        "                     negative=20, #Se> 0, a amostragem negativa será usada, o int para negativo especifica quantas \"palavras de ruído\" devem ser eliminadas. Se definido como 0, nenhuma amostra negativa é usada\n",
        "                     workers=cores-1)\n"
      ],
      "execution_count": null,
      "outputs": []
    },
    {
      "cell_type": "markdown",
      "metadata": {
        "id": "6ef51cX0VaHY"
      },
      "source": [
        "## Treinando o vocabulário"
      ]
    },
    {
      "cell_type": "code",
      "metadata": {
        "id": "K6hXEVhbVaHY"
      },
      "source": [
        "w2v_model.build_vocab(sentences, progress_per=10000)"
      ],
      "execution_count": null,
      "outputs": []
    },
    {
      "cell_type": "markdown",
      "metadata": {
        "id": "UK6mwSg_VaHY"
      },
      "source": [
        "## Treinando o modelo"
      ]
    },
    {
      "cell_type": "code",
      "metadata": {
        "id": "CZZFeq8YVaHZ",
        "outputId": "11706cda-6e72-4c23-c501-c4ab5e95d941"
      },
      "source": [
        "w2v_model.train(sentences, total_examples=w2v_model.corpus_count, epochs=30, report_delay=1)"
      ],
      "execution_count": null,
      "outputs": [
        {
          "data": {
            "text/plain": [
              "(657901079, 851023770)"
            ]
          },
          "execution_count": 10,
          "metadata": {},
          "output_type": "execute_result"
        }
      ]
    },
    {
      "cell_type": "code",
      "metadata": {
        "id": "9Y5h4K2AVaHZ",
        "outputId": "9e8c626a-643f-4b8f-8e13-a036256bdc5c"
      },
      "source": [
        "w2v_model.wv.most_similar(\"lula\")"
      ],
      "execution_count": null,
      "outputs": [
        {
          "data": {
            "text/plain": [
              "[('petista', 0.7483488321304321),\n",
              " ('ex_presidente', 0.7451997995376587),\n",
              " ('luiz_inacio', 0.7196370959281921),\n",
              " ('lula_silva', 0.6805077195167542),\n",
              " ('pt', 0.654815137386322),\n",
              " ('presidiario', 0.626659631729126),\n",
              " ('moro', 0.6232565641403198),\n",
              " ('lider_petista', 0.611538290977478),\n",
              " ('haddad', 0.6115062236785889),\n",
              " ('meliante_petista', 0.6089910268783569)]"
            ]
          },
          "execution_count": 11,
          "metadata": {},
          "output_type": "execute_result"
        }
      ]
    },
    {
      "cell_type": "markdown",
      "metadata": {
        "id": "MZ8Ue39JVaHZ"
      },
      "source": [
        "## Salvando o modelo"
      ]
    },
    {
      "cell_type": "code",
      "metadata": {
        "id": "slTavvaTVaHZ"
      },
      "source": [
        "nome_modelo = 'noticias_gerais_cbow'\n",
        "w2v_model.wv.save_word2vec_format(\"/Users/rhenanqueiroz/Documents/GitHub/fakenews/\"+nome_modelo+\".txt\", binary=False)"
      ],
      "execution_count": null,
      "outputs": []
    },
    {
      "cell_type": "markdown",
      "metadata": {
        "id": "lJOnfhQeVaHa"
      },
      "source": [
        "## Treinando e salvando o modelo skipgram"
      ]
    },
    {
      "cell_type": "code",
      "metadata": {
        "id": "c4KQN64hVaHa",
        "outputId": "54f8bbb8-eeb3-4e09-c545-98bf485665f9"
      },
      "source": [
        "w2v_model_sg = Word2Vec(sg = 1, #Skipgram ou cbow\n",
        "                     min_count=20, #ignora todas as palavras com frequência absoluta menor que essa\n",
        "                     window=3, #distancia máxima da palavra atual pra palavra predita\n",
        "                     vector_size=300, #Dimensão do vetor\n",
        "                     sample=6e-5, #O limite para configurar quais palavras de alta frequência são aleatoriamente reduzidas\n",
        "                     alpha=0.03, #learning rate inicial\n",
        "                     min_alpha=0.0007, # o learning rate vai diminuindo linearmente até esse patamar\n",
        "                     negative=20,\n",
        "                     workers=cores-1) #Se> 0, a amostragem negativa será usada, o int para negativo especifica quantas \"palavras de ruído\" devem ser eliminadas. Se definido como 0, nenhuma amostra negativa é usada\n",
        "w2v_model_sg.build_vocab(sentences, progress_per=10000)\n",
        "w2v_model_sg.train(sentences, total_examples=w2v_model_sg.corpus_count, epochs=30, report_delay=1)"
      ],
      "execution_count": null,
      "outputs": [
        {
          "data": {
            "text/plain": [
              "(657915689, 851023770)"
            ]
          },
          "execution_count": 117,
          "metadata": {},
          "output_type": "execute_result"
        }
      ]
    },
    {
      "cell_type": "code",
      "metadata": {
        "id": "_r3b4fcqVaHa",
        "outputId": "ada5caf5-a6d6-4c28-d0f4-fcf9cae5528e"
      },
      "source": [
        "w2v_model_sg.wv.most_similar(\"lula\")"
      ],
      "execution_count": null,
      "outputs": [
        {
          "data": {
            "text/plain": [
              "[('ex_presidente', 0.8104825615882874),\n",
              " ('luiz_inacio', 0.7799150943756104),\n",
              " ('lula_silva', 0.7678058743476868),\n",
              " ('petista', 0.7453047037124634),\n",
              " ('pt', 0.6569086909294128),\n",
              " ('lula_preso', 0.6365054845809937),\n",
              " ('moro', 0.6184068918228149),\n",
              " ('haddad', 0.6036134958267212),\n",
              " ('dilma', 0.5809354782104492),\n",
              " ('fernando_haddad', 0.5759023427963257)]"
            ]
          },
          "execution_count": 118,
          "metadata": {},
          "output_type": "execute_result"
        }
      ]
    },
    {
      "cell_type": "code",
      "metadata": {
        "id": "QJB1m_p4VaHd"
      },
      "source": [
        "nome_modelo2 = 'noticias_gerais_skipg'\n",
        "w2v_model_sg.wv.save_word2vec_format(\"/Users/rhenanqueiroz/Documents/GitHub/fakenews/\"+nome_modelo2+\".txt\", binary=False)"
      ],
      "execution_count": null,
      "outputs": []
    },
    {
      "cell_type": "markdown",
      "metadata": {
        "id": "FvxSSfEWVaHd"
      },
      "source": [
        "## Lendo o modelo"
      ]
    },
    {
      "cell_type": "code",
      "metadata": {
        "id": "9Mys1IerVaHd"
      },
      "source": [
        "from gensim.models import KeyedVectors\n",
        "w2v_modelo_cbow = KeyedVectors.load_word2vec_format(\"/Users/rhenanqueiroz/Documents/GitHub/fakenews/\"+nome_modelo+\".txt\")"
      ],
      "execution_count": null,
      "outputs": []
    },
    {
      "cell_type": "code",
      "metadata": {
        "id": "5vLBDXPWVaHd"
      },
      "source": [
        "from gensim.models import KeyedVectors\n",
        "w2v_modelo_skipg = KeyedVectors.load_word2vec_format(\"/Users/rhenanqueiroz/Documents/GitHub/fakenews/\"+nome_modelo2+\".txt\")"
      ],
      "execution_count": null,
      "outputs": []
    },
    {
      "cell_type": "markdown",
      "metadata": {
        "id": "hKeKYVqoVaHe"
      },
      "source": [
        "## Aplicação"
      ]
    },
    {
      "cell_type": "code",
      "metadata": {
        "id": "3otC9RxOVaHe",
        "outputId": "f60366cb-1a30-4cef-8144-f8dcaed99418"
      },
      "source": [
        "import re\n",
        "import numpy as np\n",
        "import nltk as nltk\n",
        "nltk.download('stopwords')\n",
        "stopwords = nltk.corpus.stopwords.words('portuguese')\n",
        "\n",
        "#Reload do bigrama treinado no word2vec\n",
        "bigram_reloaded = Phraser.load('./phrase')\n",
        "\n",
        "def limpa_texto(texto):\n",
        "    ''' Função para limpar textos e formata-los'''\n",
        "\n",
        "    # remove \\n e \\r\n",
        "    c = re.sub(r'\\n', ' ', texto)\n",
        "    c = re.sub(r'\\r', ' ', c)\n",
        "\n",
        "    # remove emoction\n",
        "    emoji_pattern = re.compile(\"[\"\n",
        "                           u\"\\U0001F600-\\U0001F64F\"  # emoticons\n",
        "                           u\"\\U0001F300-\\U0001F5FF\"  # symbols & pictographs\n",
        "                           u\"\\U0001F680-\\U0001F6FF\"  # transport & map symbols\n",
        "                           u\"\\U0001F1E0-\\U0001F1FF\"  # flags\n",
        "                           u\"\\U00002702-\\U000027B0\"\n",
        "                           u\"\\U000024C2-\\U0001F251\"\n",
        "                           \"]+\", flags=re.UNICODE)\n",
        "\n",
        "    c = emoji_pattern.sub(r'', c)\n",
        "\n",
        "    # remove os @ listados\n",
        "    c = re.sub(r'@[\\w./-]+', '', c)\n",
        "\n",
        "    # remove os sites\n",
        "    c = re.sub(r'http[\\w./:-]+', '', c)\n",
        "\n",
        "    # remove tag html\n",
        "    c = re.sub(r'<.*?>','', c)\n",
        "\n",
        "    # remove caracteres não alfabéticos\n",
        "    c = c.replace(':', ' ')\n",
        "    c = c.replace(';', ' ')\n",
        "    c = c.replace('.', ' ')\n",
        "    c = c.replace('/', ' ')\n",
        "    c = re.sub(r'R\\$', '', c)\n",
        "    c = re.sub(r'\\W', ' ', c)\n",
        "    c = re.sub('[‘’“”…]', '', c)\n",
        "    c = re.sub('\\w*\\d\\w*', '', c)\n",
        "\n",
        "    # remove espaços adicionais\n",
        "    c = re.sub(r'\\s+', ' ', c)\n",
        "\n",
        "    # remove espacos adicionais no inicio das frases\n",
        "    c = re.sub(r'^\\s+', '', c)\n",
        "\n",
        "    # remove espacos adicionais no final das frases\n",
        "    c = re.sub(r'\\s+$', '', c)\n",
        "\n",
        "    #remove palavras que tenham mais de 3 letras repetidas seguidas e qq outro\n",
        "    c = re.sub(r'\\w+?(\\w)\\1{2,}(\\w)+\\b', '', c)\n",
        "\n",
        "    #remove risadas\n",
        "    c = re.sub(r'(h?a*ha+h[ha]*.)', '', c)\n",
        "\n",
        "    #retira acentos\n",
        "    c = c.replace(\"á\",\"a\")\n",
        "    c = c.replace(\"ã\",\"a\")\n",
        "    c = c.replace(\"õ\",\"o\")\n",
        "    c = c.replace(\"é\",\"e\")\n",
        "    c = c.replace(\"í\",\"i\")\n",
        "    c = c.replace(\"ó\",\"o\")\n",
        "    c = c.replace(\"ô\",\"o\")\n",
        "    c = c.replace(\"ú\",\"u\")\n",
        "    c = c.replace(\"ç\",\"c\")\n",
        "\n",
        "    return c\n",
        "\n",
        "\n",
        "def remove_stop(texto):\n",
        "    '''Função para remover stopwords'''\n",
        "\n",
        "    doc = nltk.word_tokenize(texto)\n",
        "    return \" \".join(token for token in doc if token not in stopwords)\n",
        "\n",
        "\n",
        "def bigramas(texto, modelo_bigrama):\n",
        "    '''Função para criar bigramas e retornar uma lista de tokens'''\n",
        "\n",
        "    sent = modelo_bigrama[nltk.word_tokenize(texto)]\n",
        "    return sent\n",
        "\n",
        "def combinacao_de_vetores_por_soma(tokens, modelo):\n",
        "    '''Função para somar cada token considerando que a palavra esteja num\n",
        "    vetor do modelo word2vec. Caso não esteja, somente será repassado'''\n",
        "\n",
        "    vetor_resultante = np.zeros((1,300))\n",
        "\n",
        "    for token in tokens:\n",
        "        try:\n",
        "            vetor_resultante += modelo.get_vector(token)\n",
        "\n",
        "        except KeyError:\n",
        "            pass\n",
        "\n",
        "    return vetor_resultante\n",
        "\n",
        "def matriz_vetores(textos, modelo_word2vec, modelo_bigrama):\n",
        "    ''' Função para automatizar a transformação do texto em um vetor único'''\n",
        "    x = len(textos)\n",
        "    y = 300\n",
        "    matriz = np.zeros((x,y))\n",
        "\n",
        "    for i in range(x):\n",
        "        texto_limpo = limpa_texto(textos.iloc[i])\n",
        "        texto_limpo_semstop = remove_stop(texto_limpo)\n",
        "        tokens = bigramas(texto_limpo_semstop, modelo_bigrama)\n",
        "        matriz[i] = combinacao_de_vetores_por_soma(tokens, modelo_word2vec)\n",
        "\n",
        "    return matriz\n"
      ],
      "execution_count": null,
      "outputs": [
        {
          "name": "stderr",
          "output_type": "stream",
          "text": [
            "[nltk_data] Downloading package stopwords to\n",
            "[nltk_data]     /Users/rhenanqueiroz/nltk_data...\n",
            "[nltk_data]   Package stopwords is already up-to-date!\n"
          ]
        }
      ]
    },
    {
      "cell_type": "markdown",
      "metadata": {
        "id": "pr95g4JfVaHg"
      },
      "source": [
        "## Treino na base Fakebr"
      ]
    },
    {
      "cell_type": "code",
      "metadata": {
        "id": "GQyJwRfYVaHg",
        "outputId": "adeba4df-b24a-4a40-8a4c-93618cc13315"
      },
      "source": [
        "import pandas as pd\n",
        "dados = pd.read_csv('https://raw.githubusercontent.com/roneysco/Fake.br-Corpus/master/preprocessed/pre-processed.csv')\n",
        "dados.head()"
      ],
      "execution_count": null,
      "outputs": [
        {
          "data": {
            "text/html": [
              "<div>\n",
              "<style scoped>\n",
              "    .dataframe tbody tr th:only-of-type {\n",
              "        vertical-align: middle;\n",
              "    }\n",
              "\n",
              "    .dataframe tbody tr th {\n",
              "        vertical-align: top;\n",
              "    }\n",
              "\n",
              "    .dataframe thead th {\n",
              "        text-align: right;\n",
              "    }\n",
              "</style>\n",
              "<table border=\"1\" class=\"dataframe\">\n",
              "  <thead>\n",
              "    <tr style=\"text-align: right;\">\n",
              "      <th></th>\n",
              "      <th>index</th>\n",
              "      <th>label</th>\n",
              "      <th>preprocessed_news</th>\n",
              "    </tr>\n",
              "  </thead>\n",
              "  <tbody>\n",
              "    <tr>\n",
              "      <th>0</th>\n",
              "      <td>0</td>\n",
              "      <td>fake</td>\n",
              "      <td>katia abreu diz vai colocar expulsao moldura n...</td>\n",
              "    </tr>\n",
              "    <tr>\n",
              "      <th>1</th>\n",
              "      <td>1</td>\n",
              "      <td>fake</td>\n",
              "      <td>ray peita bolsonaro conservador fake entrevist...</td>\n",
              "    </tr>\n",
              "    <tr>\n",
              "      <th>2</th>\n",
              "      <td>2</td>\n",
              "      <td>fake</td>\n",
              "      <td>reinaldo azevedo desmascarado policia federal ...</td>\n",
              "    </tr>\n",
              "    <tr>\n",
              "      <th>3</th>\n",
              "      <td>3</td>\n",
              "      <td>fake</td>\n",
              "      <td>relatorio assustador bndes mostra dinheiro pub...</td>\n",
              "    </tr>\n",
              "    <tr>\n",
              "      <th>4</th>\n",
              "      <td>4</td>\n",
              "      <td>fake</td>\n",
              "      <td>radialista americano fala sobre pt vendem ilus...</td>\n",
              "    </tr>\n",
              "  </tbody>\n",
              "</table>\n",
              "</div>"
            ],
            "text/plain": [
              "   index label                                  preprocessed_news\n",
              "0      0  fake  katia abreu diz vai colocar expulsao moldura n...\n",
              "1      1  fake  ray peita bolsonaro conservador fake entrevist...\n",
              "2      2  fake  reinaldo azevedo desmascarado policia federal ...\n",
              "3      3  fake  relatorio assustador bndes mostra dinheiro pub...\n",
              "4      4  fake  radialista americano fala sobre pt vendem ilus..."
            ]
          },
          "execution_count": 15,
          "metadata": {},
          "output_type": "execute_result"
        }
      ]
    },
    {
      "cell_type": "code",
      "metadata": {
        "id": "sv8krl9dVaHh"
      },
      "source": [
        "from sklearn.model_selection import train_test_split\n",
        "from sklearn.metrics import classification_report\n",
        "from sklearn.linear_model import LogisticRegression\n",
        "\n",
        "X_train, X_test, y_train, y_test = train_test_split(dados.preprocessed_news, dados.label,\n",
        "                                                    test_size=0.2, random_state=28)"
      ],
      "execution_count": null,
      "outputs": []
    },
    {
      "cell_type": "code",
      "metadata": {
        "id": "HJg-Ry8sVaHh",
        "outputId": "7c9084ab-2f05-4aaa-9e60-3ddd1adfcedc"
      },
      "source": [
        "X_testuui = X_train.sample(3).reset_index().drop(columns = 'index')\n",
        "X_testuui"
      ],
      "execution_count": null,
      "outputs": [
        {
          "data": {
            "text/html": [
              "<div>\n",
              "<style scoped>\n",
              "    .dataframe tbody tr th:only-of-type {\n",
              "        vertical-align: middle;\n",
              "    }\n",
              "\n",
              "    .dataframe tbody tr th {\n",
              "        vertical-align: top;\n",
              "    }\n",
              "\n",
              "    .dataframe thead th {\n",
              "        text-align: right;\n",
              "    }\n",
              "</style>\n",
              "<table border=\"1\" class=\"dataframe\">\n",
              "  <thead>\n",
              "    <tr style=\"text-align: right;\">\n",
              "      <th></th>\n",
              "      <th>preprocessed_news</th>\n",
              "    </tr>\n",
              "  </thead>\n",
              "  <tbody>\n",
              "    <tr>\n",
              "      <th>0</th>\n",
              "      <td>mg governador petista nao paga funcionalismo p...</td>\n",
              "    </tr>\n",
              "    <tr>\n",
              "      <th>1</th>\n",
              "      <td>video memoravel ayrton senna dizendo viu deus ...</td>\n",
              "    </tr>\n",
              "    <tr>\n",
              "      <th>2</th>\n",
              "      <td>angelica revela defeitos marido chatinho solta...</td>\n",
              "    </tr>\n",
              "  </tbody>\n",
              "</table>\n",
              "</div>"
            ],
            "text/plain": [
              "                                   preprocessed_news\n",
              "0  mg governador petista nao paga funcionalismo p...\n",
              "1  video memoravel ayrton senna dizendo viu deus ...\n",
              "2  angelica revela defeitos marido chatinho solta..."
            ]
          },
          "execution_count": 21,
          "metadata": {},
          "output_type": "execute_result"
        }
      ]
    },
    {
      "cell_type": "markdown",
      "metadata": {
        "id": "uQqT3t2YVaHh"
      },
      "source": [
        "## Exemplo"
      ]
    },
    {
      "cell_type": "code",
      "metadata": {
        "id": "x6x1OyNUVaHi",
        "outputId": "5e517cd7-9997-40dc-c24c-62194661185e"
      },
      "source": [
        "X_testuui.preprocessed_news.iloc[0]"
      ],
      "execution_count": null,
      "outputs": [
        {
          "data": {
            "text/plain": [
              "'mg governador petista nao paga funcionalismo publico ira gastar r milhoes publicidade meio denuncias riscos concretos governador fernando pimentel terminar mandato preso governo minas apagar luzes anunciou ira abrir nova licitacao informacoes bhaz verba agora sera minimo milhoes ano podendo chegar milhoes engracado desde atual gestao assumiu nao faltaram reclamacoes falta recursos assombroso ainda momento anuncia nao dinheiro pagar dia salario funcionalismo publico proximos meses governo petista coloca prioridade publicidades milionarias salario funcionarios estado nao garantido assim verba publicidade estara bem garantida gasto dessa magnitude momento tao complicado atual minimo imoral portal bhaz prometeu acompanhar perto juntamente ministerio publico todo processo estaremos olho gastanca mineira faremos questao divulgar materias portal bhaz'"
            ]
          },
          "execution_count": 25,
          "metadata": {},
          "output_type": "execute_result"
        }
      ]
    },
    {
      "cell_type": "code",
      "metadata": {
        "id": "Bfkya7izVaHi",
        "outputId": "dd2a0686-b8eb-492f-b531-a3ff290c2970"
      },
      "source": [
        "texto_limpo = limpa_texto(X_testuui.preprocessed_news.iloc[0])\n",
        "texto_limpo"
      ],
      "execution_count": null,
      "outputs": [
        {
          "data": {
            "text/plain": [
              "'mg governador petista nao paga funcionalismo publico ira gastar r milhoes publicidade meio denuncias riscos concretos governador fernando pimentel terminar mandato preso governo minas apagar luzes anunciou ira abrir nova licitacao informacoes bhaz verba agora sera minimo milhoes ano podendo chegar milhoes engracado desde atual gestao assumiu nao faltaram reclamacoes falta recursos assombroso ainda momento anuncia nao dinheiro pagar dia salario funcionalismo publico proximos meses governo petista coloca prioridade publicidades milionarias salario funcionarios estado nao garantido assim verba publicidade estara bem garantida gasto dessa magnitude momento tao complicado atual minimo imoral portal bhaz prometeu acompanhar perto juntamente ministerio publico todo processo estaremos olho gastanca mineira faremos questao divulgar materias portal bhaz'"
            ]
          },
          "execution_count": 28,
          "metadata": {},
          "output_type": "execute_result"
        }
      ]
    },
    {
      "cell_type": "code",
      "metadata": {
        "id": "4jXTOyyDVaHi",
        "outputId": "2771c3a2-1201-4a42-f1aa-969ea2fbd7a8"
      },
      "source": [
        "texto_limpo_semstop = remove_stop(texto_limpo)\n",
        "texto_limpo_semstop"
      ],
      "execution_count": null,
      "outputs": [
        {
          "data": {
            "text/plain": [
              "'mg governador petista nao paga funcionalismo publico ira gastar r milhoes publicidade meio denuncias riscos concretos governador fernando pimentel terminar mandato preso governo minas apagar luzes anunciou ira abrir nova licitacao informacoes bhaz verba agora sera minimo milhoes ano podendo chegar milhoes engracado desde atual gestao assumiu nao faltaram reclamacoes falta recursos assombroso ainda momento anuncia nao dinheiro pagar dia salario funcionalismo publico proximos meses governo petista coloca prioridade publicidades milionarias salario funcionarios estado nao garantido assim verba publicidade estara bem garantida gasto dessa magnitude momento tao complicado atual minimo imoral portal bhaz prometeu acompanhar perto juntamente ministerio publico todo processo estaremos olho gastanca mineira faremos questao divulgar materias portal bhaz'"
            ]
          },
          "execution_count": 56,
          "metadata": {},
          "output_type": "execute_result"
        }
      ]
    },
    {
      "cell_type": "code",
      "metadata": {
        "id": "w7QOSeJaVaHi",
        "outputId": "3b48a3ff-e880-4190-86d2-5cc3ea1ef984"
      },
      "source": [
        "tokens = bigramas(texto_limpo_semstop, bigram_reloaded) #Usamos o bigrama já treinadado com os dados do w2v\n",
        "tokens[:8]"
      ],
      "execution_count": null,
      "outputs": [
        {
          "data": {
            "text/plain": [
              "['mg',\n",
              " 'governador',\n",
              " 'petista',\n",
              " 'nao',\n",
              " 'paga',\n",
              " 'funcionalismo_publico',\n",
              " 'ira',\n",
              " 'gastar']"
            ]
          },
          "execution_count": 75,
          "metadata": {},
          "output_type": "execute_result"
        }
      ]
    },
    {
      "cell_type": "code",
      "metadata": {
        "id": "mMNl9mxnVaHj",
        "outputId": "ce02f091-b3fa-4979-db2b-89761227aa23"
      },
      "source": [
        "vetor_resultante = matriz_vetores(X_testuui.preprocessed_news, w2v_modelo_cbow,bigram_reloaded)\n",
        "vetor_resultante[:10]"
      ],
      "execution_count": null,
      "outputs": [
        {
          "data": {
            "text/plain": [
              "array([[ 2.66494107e+01, -2.21766821e+00, -1.19723012e+01,\n",
              "        -3.55663588e+01, -8.83896732e+00,  9.43865732e+00,\n",
              "        -6.25194667e-01,  1.76426215e+01,  5.35734956e-01,\n",
              "         1.39825954e+01,  9.53949639e-01,  8.24341543e+00,\n",
              "        -2.15985280e+01,  1.11094686e+01, -2.08263880e+01,\n",
              "         9.81682720e+00, -3.97188396e+00, -3.23150373e+00,\n",
              "        -2.05614415e+01,  2.24751387e+00,  2.08086079e+01,\n",
              "        -8.02875726e+00,  7.70033446e+00,  1.04920275e+01,\n",
              "        -3.80253788e+01,  1.48237188e+01,  4.00518670e+01,\n",
              "         1.47755101e+01, -2.53976892e+01,  2.65523637e+01,\n",
              "         3.80916574e+01, -4.00372496e+01,  1.20396973e+01,\n",
              "        -8.07135690e+00,  7.42554868e+00,  1.01521387e-01,\n",
              "         2.26322415e+01,  2.73266173e+01, -2.19964301e+01,\n",
              "         2.73305741e+00,  1.51471055e+01,  8.05618376e+00,\n",
              "        -8.67833367e+00,  1.85732334e+01,  9.22359244e+00,\n",
              "        -1.79084961e+01,  1.13389453e+01, -9.26234344e+00,\n",
              "         2.74623984e+01, -3.36065056e+01,  2.47956387e+01,\n",
              "         3.41030942e+00,  2.59466520e+01,  8.13582227e+00,\n",
              "         1.54519335e+01,  3.18617275e+01, -1.17629243e+01,\n",
              "         3.68931401e+00,  1.89372519e+01, -3.22692078e+01,\n",
              "         1.62681011e+01, -2.09307063e+01,  4.25329453e+00,\n",
              "         4.17449647e+00, -2.09399894e+01,  3.25681005e+01,\n",
              "        -8.93628929e-01, -7.75704122e+00,  5.25800400e+00,\n",
              "         1.66783724e+01,  3.61478163e+01, -3.01721319e+01,\n",
              "         1.53745739e+01, -1.02386150e+01,  3.21836574e+01,\n",
              "         1.38865503e+01,  1.95327170e+00,  6.62596881e+00,\n",
              "        -2.00703902e+01,  1.59499556e+01,  3.65977610e+00,\n",
              "         2.58851432e+01, -5.44933716e+00,  4.34625408e+00,\n",
              "        -6.78796690e+00,  9.29704906e+00, -2.86033216e+01,\n",
              "        -9.99888254e-01, -7.37060623e+00,  1.75317741e+01,\n",
              "        -3.27004974e+01,  1.22924956e+01, -2.69996308e+01,\n",
              "        -8.48436911e+00, -2.71155622e+00, -4.62932541e+01,\n",
              "        -3.68396875e+01, -1.57742148e+01,  5.53574928e+01,\n",
              "        -1.67047071e+01, -3.07642241e+01,  5.76256031e+00,\n",
              "        -1.63672753e+01, -7.61004255e+00, -1.80212792e+01,\n",
              "         2.74555033e+01,  3.45945639e+01,  9.16060888e+00,\n",
              "        -2.12629103e+01,  1.76012174e+01, -8.82122530e+00,\n",
              "         5.30734115e+01,  1.43434173e+01,  2.20307951e+01,\n",
              "        -9.93504549e+00, -2.07704182e+01, -8.86613308e+00,\n",
              "         3.18791003e+01,  1.07224004e+01, -9.75298386e+00,\n",
              "        -5.92518107e+00, -3.62145236e+00, -1.74456492e+01,\n",
              "         4.00814382e+01, -6.10769944e+00, -1.04096645e+01,\n",
              "        -9.51006923e+00,  1.28774029e+01,  6.47786361e+00,\n",
              "         1.99991437e+01,  1.59862165e+01, -3.21182230e+01,\n",
              "         6.46129605e+00,  9.49876166e+00, -5.45365763e+00,\n",
              "        -5.22628594e-02,  8.58131106e+00,  2.79599163e+00,\n",
              "         3.38128216e+01, -2.90430473e+01, -3.66049925e+01,\n",
              "        -6.16899109e+00, -8.81918087e+00, -5.72942150e+00,\n",
              "        -1.74408844e+01, -2.25721001e+01, -6.57144513e+00,\n",
              "        -4.42311511e+01,  1.53201866e+01, -1.75707615e+01,\n",
              "        -1.62362177e+01,  2.55665533e+01, -4.14304049e+00,\n",
              "         5.90246118e+00,  1.11704821e+01,  1.05304351e+01,\n",
              "         2.03695539e+01,  2.29160734e+01,  1.44141280e+01,\n",
              "        -4.46105339e-02,  3.53690308e+01, -1.61389557e+01,\n",
              "         2.68609497e+01, -2.92729397e+00, -3.15219144e+01,\n",
              "         8.83465703e+00, -2.10573813e+01,  3.36560260e+01,\n",
              "         1.08223930e+01, -3.12790380e+01, -3.04545935e+00,\n",
              "        -1.66776326e+01, -3.40260319e+01,  3.98195839e+01,\n",
              "        -5.42849652e+00, -1.02914518e+00, -1.02735702e+00,\n",
              "         4.11834979e+00,  8.02604230e+00,  1.83952427e+01,\n",
              "         2.12989497e+01, -1.01858044e+00,  1.18181480e+01,\n",
              "         2.86288714e+01, -1.27394992e+01, -8.17882929e+00,\n",
              "         1.45056882e+01,  7.24642287e+00,  3.89660060e+01,\n",
              "        -1.70807776e+00, -1.69232558e+01, -5.31454476e+00,\n",
              "         1.39831345e+01,  2.05337388e+01, -1.12042474e+01,\n",
              "         5.66692987e+00, -7.74336957e+00,  2.48217239e+01,\n",
              "         5.49105015e-01, -3.42424071e+00,  2.96510798e+01,\n",
              "         2.37633237e+00,  8.96869949e+00,  7.32221476e-01,\n",
              "         2.95358815e+01, -4.58126712e+00,  1.39479662e+01,\n",
              "         2.98917924e+01,  3.80622407e-01,  3.12272703e+01,\n",
              "        -3.67984766e+01,  8.85322142e+00,  6.36160422e+01,\n",
              "        -5.11754771e+00, -1.19349363e+01, -2.03748014e-01,\n",
              "         7.29529645e+00, -2.39571156e+01,  1.39390307e+01,\n",
              "         1.15507589e+01, -3.47994596e+01, -2.29917699e+01,\n",
              "        -3.70375226e+00, -1.61753280e+01,  1.74343573e+01,\n",
              "         1.97373170e+01,  7.48083927e-02, -2.92112681e+01,\n",
              "         2.17922442e+01, -1.11515750e+01,  2.38775351e+01,\n",
              "         1.73790294e+01,  1.15234596e+01, -2.74010887e+01,\n",
              "        -1.83979607e+01, -1.84344500e+01,  1.20924870e+01,\n",
              "        -2.36937850e+01, -6.34375148e+00,  2.07830204e+01,\n",
              "         1.83860760e+01,  1.50363789e+01,  1.86925093e+01,\n",
              "        -5.74204132e+00,  2.47051886e+01,  3.09775001e+01,\n",
              "         9.99229646e+00, -4.30364328e-01, -1.67850914e+01,\n",
              "         1.95627533e+01,  1.64518252e+01, -1.02426313e+01,\n",
              "         1.00061980e+01, -3.56582256e+00,  8.66103574e+00,\n",
              "        -4.48588026e+00, -1.44466385e+01,  5.10231355e+00,\n",
              "        -1.33992997e+01, -3.16002102e+00, -1.96424353e+01,\n",
              "        -9.49829798e+00,  1.10085465e+01,  2.27810325e+01,\n",
              "         1.20785673e+01, -1.68066086e+00,  4.49049077e+00,\n",
              "        -9.30498890e+00, -2.41213242e+01,  5.93346179e+00,\n",
              "         6.40040450e+00, -5.60870750e+00,  6.73439197e+00,\n",
              "         1.78393767e+01, -1.58744602e+01,  2.25120734e+01,\n",
              "        -8.40985236e+00,  7.70371694e+00, -2.34994985e+01,\n",
              "         5.06370740e-01,  4.30709699e-01,  3.52561108e+01,\n",
              "         6.87837546e+00,  1.68597417e+01,  4.43546960e+00,\n",
              "         2.64471513e+01, -2.29714118e+00,  1.42397625e+01,\n",
              "        -6.61945365e+00,  1.75046153e+01, -2.70163674e+01,\n",
              "        -1.30859528e+01, -1.03458692e+01, -2.73291053e+01,\n",
              "         1.11480594e+01, -1.37024964e+01, -4.02947348e+01,\n",
              "        -1.92343658e+01, -1.53830591e+01,  1.77377516e+01],\n",
              "       [-9.04469041e+00,  9.71454783e+00, -2.35283094e+01,\n",
              "        -8.07793414e+00, -9.56535783e-01, -2.41318469e+01,\n",
              "        -5.33209566e+00,  2.15798289e+01,  1.55119536e+01,\n",
              "        -9.51804791e+00,  7.90429828e+00,  4.27926631e+00,\n",
              "         1.18520700e+01,  3.02091996e+01,  1.28483213e+01,\n",
              "         1.13856276e+01, -2.11809247e+01, -2.02101985e+01,\n",
              "        -6.09722770e+00, -3.86248906e+01,  1.04792910e+01,\n",
              "        -5.90297746e+00,  2.92115707e+00,  7.94071402e-01,\n",
              "         1.42236664e+00,  9.94939898e+00,  5.41346082e+00,\n",
              "        -1.96770234e-01,  7.88396050e+00, -8.92456698e+00,\n",
              "        -1.79216274e+00, -3.74052067e+00,  3.56517015e-01,\n",
              "        -4.10760805e+00,  1.28066673e+01, -1.72780928e+01,\n",
              "         1.20988585e+01,  9.03518656e+00, -2.47913314e+01,\n",
              "        -9.45059528e+00, -3.22306953e-01, -8.75007278e+00,\n",
              "         4.24461388e+00, -1.93662529e+01,  4.69223064e+00,\n",
              "        -2.51890657e+00,  6.05804606e+00, -2.09368576e+01,\n",
              "         1.37053620e+01, -2.00072077e+01, -1.17694665e+01,\n",
              "        -6.55749280e+00, -1.57029846e+01,  2.36928146e+01,\n",
              "         1.10420013e+01,  1.03049789e+01,  7.85288465e+00,\n",
              "         1.79945787e+01,  3.79962151e+01, -7.55447069e+00,\n",
              "         1.25039714e+01, -2.27389921e+01,  6.34990780e+00,\n",
              "         1.64467772e+01, -6.28102738e+00,  4.74318328e+00,\n",
              "        -1.07335809e+01, -4.42487186e+00,  2.61971936e+01,\n",
              "         2.68283311e+01,  3.66784194e+00,  3.68298516e+00,\n",
              "        -2.27427643e+01,  1.46697324e+01,  2.57270102e+01,\n",
              "         1.06702693e+01,  2.32973945e+01, -2.23029361e+01,\n",
              "        -1.59769047e+01, -1.10529051e+01,  1.08249497e+01,\n",
              "        -8.93705756e+00, -5.09261601e+00, -3.20612770e+00,\n",
              "         1.01267694e+01,  1.22157225e+01, -9.87554505e+00,\n",
              "         9.06969637e+00, -2.30455826e+01,  1.14521422e+01,\n",
              "         5.26764053e+00, -3.36228323e+00, -2.37611823e+01,\n",
              "        -4.29058631e+00, -1.33610404e+01, -1.95856485e+01,\n",
              "        -1.91867541e+01,  6.72645017e+00,  1.03162675e+01,\n",
              "        -2.86013899e+01, -3.85411634e+01, -1.61061274e+01,\n",
              "        -3.56446035e+00,  4.31500394e+00, -7.29573148e+00,\n",
              "         2.54626324e+01, -1.68509410e+01,  2.82962542e+00,\n",
              "         1.16108332e+01,  2.88393025e+01, -6.74191145e+00,\n",
              "         9.61679981e+00,  4.81530972e+00, -4.81250462e+00,\n",
              "        -2.31274006e+01,  1.97165302e+01, -1.42455327e+01,\n",
              "         2.36107954e+01, -2.00796422e+01,  1.33023897e+00,\n",
              "         2.01394333e+01, -2.04785597e+01, -2.27841158e+01,\n",
              "        -1.30237844e+01,  1.81085833e+00,  1.34159072e+01,\n",
              "        -1.16219242e+01,  1.00016182e+01, -1.95102950e+01,\n",
              "         3.99112673e+00,  1.74744353e+00, -3.15263222e+01,\n",
              "         1.32777553e+01,  8.53504541e+00,  9.63260905e+00,\n",
              "         4.41344522e+00, -5.08955032e+00,  3.63980289e+00,\n",
              "         5.47570587e+00, -4.03984077e+00,  1.58632889e+00,\n",
              "         3.21158786e+00,  2.86874051e+01, -7.33221976e+00,\n",
              "        -2.12932213e+01, -3.72757666e+00,  9.25053864e+00,\n",
              "        -8.45275874e+00, -1.32634577e+01,  3.64795772e+00,\n",
              "        -1.82333672e+01,  5.37725128e+00,  9.62130113e+00,\n",
              "        -5.67431690e+00,  2.23099208e+01, -6.36959060e+00,\n",
              "        -1.00260103e+01,  1.93523812e+01,  4.34365669e+00,\n",
              "         2.94366581e+00,  2.13237228e+01,  8.17744414e+00,\n",
              "         3.28367552e+00,  1.23458495e+01,  3.09987772e+00,\n",
              "         9.09939419e+00, -2.12050447e+01, -2.00087854e+01,\n",
              "         3.28786565e+00, -6.38577999e+00, -2.33762442e+01,\n",
              "        -1.22241320e+01, -2.81536394e+01, -3.98019646e+00,\n",
              "        -4.93642296e-01, -1.40410458e+00,  1.22131883e+01,\n",
              "         1.64454539e+01,  1.18893715e+01,  1.04552442e+01,\n",
              "        -1.87229503e+01, -3.85652807e+00,  1.62742107e+01,\n",
              "         1.66711306e+01, -1.77353789e+01,  7.98164694e+00,\n",
              "        -5.49880920e+00, -8.36672741e+00,  1.60972669e+01,\n",
              "        -2.30646329e+00, -1.21103889e+01, -1.97991500e+00,\n",
              "         1.58989222e+01, -1.17962064e+01,  9.35937397e-01,\n",
              "        -1.28976645e+01,  1.64773199e+00, -8.93578824e+00,\n",
              "        -1.75598503e+01, -1.16430246e+01,  1.60779421e+01,\n",
              "        -3.71187291e+00,  6.47078870e+00,  4.22790064e+00,\n",
              "        -3.40205685e+00, -1.14093759e+00, -5.13925537e-01,\n",
              "         8.59074662e-01,  7.28710994e+00,  2.77174881e+01,\n",
              "        -2.15667025e+01,  1.14926221e+01,  3.05926921e+01,\n",
              "        -1.49445705e+01, -5.67536273e+00, -3.61685948e-01,\n",
              "         1.08391501e+01,  7.34008220e+00,  1.59439205e+00,\n",
              "         2.04594864e+01,  1.01945091e+01, -2.81948597e+01,\n",
              "         2.03844392e+01, -3.14817411e+00,  4.50340035e+00,\n",
              "        -1.68438784e+01,  1.35668320e+01, -5.15541105e+00,\n",
              "         1.81787638e+01, -9.21352214e+00,  1.02324996e+01,\n",
              "         1.77546653e+01,  1.35653495e+01, -1.44355002e+01,\n",
              "        -2.12129418e+01,  2.99581591e+00,  1.70629968e+01,\n",
              "        -4.46507035e+00, -1.61942381e+01,  1.15966946e+01,\n",
              "        -1.16300720e+00,  1.97917444e+01, -5.65934706e+00,\n",
              "        -1.79497848e+00,  1.82609115e+01,  1.78431594e+01,\n",
              "         2.47552762e+01,  2.99448438e-01, -1.53844057e+01,\n",
              "        -1.35208007e+00,  3.67905795e+00, -3.88182833e+00,\n",
              "        -1.05778906e+01, -8.70288963e+00,  1.62608906e+01,\n",
              "        -1.69425747e+01, -5.48050813e-02, -1.80790862e+01,\n",
              "        -1.86212152e+00,  5.45351855e+00, -1.97608011e+01,\n",
              "         1.19555742e+00,  2.44110295e+01,  4.03805936e+00,\n",
              "         4.87477728e+00, -9.14929773e+00, -7.81407517e+00,\n",
              "        -1.36949839e+01,  1.58787216e+01, -8.31377510e+00,\n",
              "        -8.65249328e+00,  4.48223379e+00, -1.11918112e+01,\n",
              "        -6.38324700e-01, -6.88790952e+00,  3.43212192e+00,\n",
              "         1.41755712e+01, -3.90507398e+00, -3.86724172e+00,\n",
              "        -3.07909549e+01,  1.16948751e+01, -1.00952196e+01,\n",
              "        -1.33167190e+01, -1.26313862e+01, -2.02701470e+00,\n",
              "         3.32822859e+00, -1.04413144e+01,  1.22173090e+01,\n",
              "        -7.52969298e+00, -3.29326325e+00, -1.70340190e+01,\n",
              "        -8.82971155e+00,  1.39821696e+01, -4.29075770e+00,\n",
              "        -1.60244540e+00,  7.03083220e+00,  3.56187667e+00,\n",
              "         2.05434365e+00,  1.36243295e+01, -5.31848523e+00],\n",
              "       [ 1.39432611e+01, -4.99317756e+00, -1.12174829e+01,\n",
              "        -3.98637884e+00,  5.71082481e+00, -1.54668984e+01,\n",
              "         1.01150870e+01,  9.76481295e+00,  1.78990003e+01,\n",
              "         3.63578576e+00,  5.82378979e+00,  2.22263440e-01,\n",
              "         9.44486964e+00,  1.07051406e+01,  2.40972430e+01,\n",
              "         1.83033316e+01, -6.09276430e+00, -2.28069558e+00,\n",
              "         5.23523858e+00, -2.24410356e+01,  2.37063375e+00,\n",
              "        -6.24058111e+00,  3.79089634e+00,  4.38282713e-01,\n",
              "         7.46857089e+00, -9.68755026e+00,  2.21645652e+01,\n",
              "        -1.04530328e+01,  1.69989954e+01, -9.70515258e+00,\n",
              "         5.55261894e+00,  2.71035126e+00,  7.08620281e+00,\n",
              "        -2.00431023e+01,  1.31163038e+01, -1.12103651e+01,\n",
              "        -7.48518944e+00,  2.34308183e+01, -2.42158292e+01,\n",
              "        -6.24567774e+00,  8.81912500e-01, -1.10200113e+01,\n",
              "        -2.25552729e+00, -1.37583665e+01, -1.59332301e+01,\n",
              "         1.08798605e+01,  7.94665729e+00, -5.98412369e-01,\n",
              "         9.96409928e+00, -1.03462368e+00,  7.36738012e+00,\n",
              "         7.40190133e+00, -2.32187606e+00,  3.87995934e+00,\n",
              "         4.16554623e+00, -2.14334323e+00,  1.76563898e+01,\n",
              "         2.45257374e+01,  1.84592253e+01,  6.78632519e+00,\n",
              "         1.95157089e+01, -2.34703997e+01,  5.92299632e+00,\n",
              "         2.16414757e+01, -4.97668265e+00,  1.18091535e+01,\n",
              "        -1.13524379e+01,  4.67016278e+00,  9.79345181e-01,\n",
              "         1.53724070e+01,  9.43376330e-01,  2.08598889e+01,\n",
              "        -1.06208115e+01,  1.10030025e+01,  2.21061292e+01,\n",
              "         6.56296620e+00,  2.24675482e+01, -3.14634276e+01,\n",
              "         2.41726937e+00, -2.90830034e+00, -1.12947265e+01,\n",
              "        -1.81132223e+01,  1.00788459e+01, -8.51491417e+00,\n",
              "        -3.72836409e+00,  2.19919150e+00, -2.84270050e+00,\n",
              "         1.99443337e+00, -2.57721265e+01,  4.89462721e+00,\n",
              "         1.24214490e+01, -5.97907001e+00, -1.86350135e+01,\n",
              "        -5.87267761e+00, -1.12925837e+01, -1.96424769e+01,\n",
              "        -2.74572792e+01,  6.49233028e+00, -1.44126717e+01,\n",
              "        -9.76272240e+00, -1.99804303e+01, -1.55311648e+01,\n",
              "         7.38758927e+00,  5.91254011e+00, -1.76443214e+01,\n",
              "         9.53547442e+00, -3.14192909e+01, -6.72570363e+00,\n",
              "         1.45966877e+01,  2.55130052e+01, -1.67278901e+01,\n",
              "         1.11919830e+01, -2.23295222e+00,  9.85343166e+00,\n",
              "         6.90903305e-01,  2.47303399e+01, -4.94238396e+00,\n",
              "         2.08412391e+01, -7.99517903e+00,  2.15127267e+00,\n",
              "         1.37742475e+01, -3.43741652e+01, -3.28434733e+01,\n",
              "        -3.08052670e+01, -5.31832374e+00,  1.49740338e+01,\n",
              "        -1.20510270e+01, -1.17036991e+01,  5.68882619e+00,\n",
              "         2.07401642e+01,  1.08247107e+01, -1.32819560e+01,\n",
              "         6.60983434e+00,  1.41825112e+01,  3.13364447e+01,\n",
              "         2.19267134e+01, -6.55417932e+00, -8.55454747e-02,\n",
              "         1.66407871e+00, -1.22635734e+00, -1.95755161e+00,\n",
              "        -1.33452653e+01,  2.51425340e+01,  3.21538158e-01,\n",
              "        -2.75821625e+01,  1.47070057e+01, -1.30599828e+00,\n",
              "        -9.88801211e+00, -3.53335175e+00,  1.07783065e+01,\n",
              "        -1.31931679e+01, -1.87545675e+00,  2.38887598e+01,\n",
              "         1.25420900e+01,  1.02418124e+01, -2.68147838e+01,\n",
              "        -9.84416543e+00,  1.75115823e+01, -4.67091718e+00,\n",
              "        -6.16796915e+00, -7.67214205e-01,  4.52230351e+00,\n",
              "        -2.32110595e+01,  2.21929541e+01,  3.47520312e+00,\n",
              "        -4.17396670e+00, -1.23245605e+01, -2.15412652e+01,\n",
              "        -1.68204284e+01, -1.53151041e+01, -1.06777527e+01,\n",
              "        -1.52033283e+01, -2.15952761e+01,  6.72734769e-01,\n",
              "         8.33256979e-01, -8.75149884e+00,  2.57375606e+01,\n",
              "         3.79271864e+00,  2.55485621e+00, -2.08260039e+00,\n",
              "        -1.61174420e+01, -8.40613426e+00,  2.59846462e+01,\n",
              "        -5.89367765e+00, -2.94588288e+00, -9.19574646e+00,\n",
              "         1.18068753e+01,  3.35279584e+00,  2.02892876e+01,\n",
              "         1.49332087e+01, -1.37216441e+01,  1.78770579e+00,\n",
              "         9.20443263e+00,  7.97267272e+00,  1.29590484e+01,\n",
              "         3.88806803e+00,  1.13646983e+01,  6.28615058e+00,\n",
              "        -1.57354529e+01,  1.46035233e+01,  1.74308165e+01,\n",
              "        -8.60125699e+00, -9.32019307e+00,  1.89698573e+01,\n",
              "         1.33513680e+00,  3.99659429e-01, -6.98786609e+00,\n",
              "        -3.49674261e+00,  9.49712679e+00,  2.13552629e+01,\n",
              "        -1.38296510e+01,  1.03874065e+01, -5.41224755e+00,\n",
              "        -1.97673037e+01,  7.77061380e+00, -5.89022999e+00,\n",
              "         7.73663995e+00, -4.19517113e+00,  6.59319448e+00,\n",
              "         7.94409159e+00,  1.24322469e+01, -2.01619522e+01,\n",
              "         1.70629300e+00, -1.37119260e+01,  9.55285028e+00,\n",
              "        -1.89913439e+01,  7.19874777e+00,  1.67049124e+01,\n",
              "         9.90918650e+00, -9.86616420e+00, -6.12718929e-01,\n",
              "         1.14564045e+01,  2.74431618e+01,  1.11032589e+01,\n",
              "        -1.80853124e+01,  2.17892641e+01,  1.24589180e+01,\n",
              "         3.09118865e+00, -1.23675449e+01, -1.01396302e+01,\n",
              "         7.03233860e-01,  9.11772813e+00, -1.35899462e+00,\n",
              "         1.36137903e+01,  6.28452605e+00,  6.12975403e+00,\n",
              "         2.44482579e+01, -1.38969541e+00, -3.97014603e+00,\n",
              "        -7.30995490e+00,  6.40221138e-01, -1.28864893e+01,\n",
              "        -2.46208820e+01, -2.28238594e+01,  1.59362038e+01,\n",
              "        -2.08195917e+01,  6.21681352e+00, -1.58694941e+01,\n",
              "        -8.60823216e+00, -6.34821190e+00, -3.29181430e+00,\n",
              "        -2.21168211e+00,  1.80341909e+01, -1.49343622e+01,\n",
              "         1.06504888e+01, -5.61255871e+00,  1.73000623e+00,\n",
              "        -5.05072116e+00, -2.18949986e+00, -2.48102205e+00,\n",
              "        -1.89066660e+01, -1.39751090e+01, -7.54645491e+00,\n",
              "        -6.05193954e+00, -1.13894992e+01, -5.15011925e+00,\n",
              "         1.52152108e+01, -1.30685484e+01, -3.14990489e+00,\n",
              "        -2.30652641e+01,  1.59929859e+00, -7.17481762e+00,\n",
              "         1.27256933e+01, -2.67431263e+01,  7.65171253e+00,\n",
              "         4.06528612e+00, -6.52998916e+00,  1.21641803e+01,\n",
              "        -1.32242656e+01, -1.71592803e+01, -2.54932745e+01,\n",
              "        -8.69991982e+00,  1.32751646e+01, -8.15185605e+00,\n",
              "         1.07108029e+00, -7.83965461e+00,  2.08187310e+00,\n",
              "        -4.12728313e-01,  1.60655289e+01,  3.27317979e+00]])"
            ]
          },
          "execution_count": 76,
          "metadata": {},
          "output_type": "execute_result"
        }
      ]
    },
    {
      "cell_type": "markdown",
      "metadata": {
        "id": "YFSWtOGVVaHj"
      },
      "source": [
        "## Treino do classificador - Regressão logística"
      ]
    },
    {
      "cell_type": "code",
      "metadata": {
        "id": "UR4c6zVrVaHj"
      },
      "source": [
        "def classificador(modelo_word2vec, modelo_bigrama, x_treino,x_teste, y_treino, y_teste):\n",
        "    ''' Função que cria um classificador de reg logistica usando-se os vetores do modelo word2vec'''\n",
        "\n",
        "    matriz_vetores_treino = matriz_vetores(x_treino, modelo_word2vec, modelo_bigrama)\n",
        "    matriz_vetores_teste = matriz_vetores(x_teste, modelo_word2vec, modelo_bigrama)\n",
        "    RL = LogisticRegression(max_iter = 2000)\n",
        "    RL.fit(matriz_vetores_treino, y_treino)\n",
        "    categorias = RL.predict(matriz_vetores_teste)\n",
        "    resultados = classification_report(y_teste, categorias)\n",
        "    print(resultados)\n",
        "\n",
        "    return RL"
      ],
      "execution_count": null,
      "outputs": []
    },
    {
      "cell_type": "code",
      "metadata": {
        "id": "dksKyrbpVaHj",
        "outputId": "735b3843-bda4-4fea-8634-02da91761153"
      },
      "source": [
        "RL_sg = classificador(w2v_modelo_cbow, bigram_reloaded, X_train, X_test, y_train, y_test)"
      ],
      "execution_count": null,
      "outputs": [
        {
          "name": "stdout",
          "output_type": "stream",
          "text": [
            "              precision    recall  f1-score   support\n",
            "\n",
            "        fake       0.94      0.96      0.95       743\n",
            "        true       0.95      0.94      0.94       697\n",
            "\n",
            "    accuracy                           0.95      1440\n",
            "   macro avg       0.95      0.95      0.95      1440\n",
            "weighted avg       0.95      0.95      0.95      1440\n",
            "\n"
          ]
        }
      ]
    },
    {
      "cell_type": "markdown",
      "metadata": {
        "id": "xU1ilqr1VaHk"
      },
      "source": [
        "## Treino do classificador - LightGBM"
      ]
    },
    {
      "cell_type": "code",
      "metadata": {
        "id": "Pe2q9IvjVaHk"
      },
      "source": [
        "matriz_vetores_total_cbow = matriz_vetores(dados.preprocessed_news, w2v_modelo_cbow, bigram_reloaded)\n",
        "matriz_vetores_total_skipg = matriz_vetores(dados.preprocessed_news, w2v_modelo_skipg, bigram_reloaded)\n",
        "y  = dados.label.map({'true': 1, 'fake': 0})"
      ],
      "execution_count": null,
      "outputs": []
    },
    {
      "cell_type": "code",
      "metadata": {
        "id": "urOB6UR8VaHk"
      },
      "source": [
        "dtrain_cbow = lgb.Dataset(matriz_vetores_total_cbow, label=y)\n",
        "dtrain_sg = lgb.Dataset(matriz_vetores_total_skipg, label=y)"
      ],
      "execution_count": null,
      "outputs": []
    },
    {
      "cell_type": "code",
      "metadata": {
        "id": "qJn-8HlHVaHk"
      },
      "source": [
        "import lightgbm as lgb\n",
        "def cross_val(eta=0.1,num_leaves=8,bag_frac=0.8,bag_freq=5,feat_frac=0.8):\n",
        "\n",
        "    '''\n",
        "    A function to return cross-validated LightGBM model accuracy\n",
        "\n",
        "    Inputs\n",
        "      eta: float, learning rate for model\n",
        "      num_leaves: int, maximum number of leaves in tree\n",
        "      bag_frac: float, random bagging fraction\n",
        "      bag_freq: int, frequency of bagging\n",
        "      feat_frac: float, feature fraction\n",
        "\n",
        "    Outputs\n",
        "      float, model accuracy from best iteration of cross-validated model\n",
        "    '''\n",
        "\n",
        "    # set the model parameters\n",
        "    parameters = {\n",
        "        'objective': 'multiclass',\n",
        "        'metric': 'multi_error',\n",
        "        'num_class':10,\n",
        "        'learning_rate': eta,\n",
        "        'num_leaves': int(num_leaves), # need to set this as int since optimisation feeds in float\n",
        "        'bagging_fraction': bag_frac,\n",
        "        'bagging_freq': int(bag_freq), # need to set this as int since optimisation feeds in float\n",
        "        'feature_fraction': feat_frac,\n",
        "        'force_col_wise':True, # suppress the warning\n",
        "        'verbosity':-1\n",
        "        }\n",
        "\n",
        "\n",
        "    model = lgb.cv(params = parameters,\n",
        "                    train_set = dtrain_cbow,\n",
        "                    num_boost_round=2000,\n",
        "                    stratified=False,\n",
        "                    nfold = 5,\n",
        "                    verbose_eval=50,\n",
        "                    seed = 23,\n",
        "                    early_stopping_rounds=75)\n",
        "\n",
        "\n",
        "    # return accuracy rather than error\n",
        "    # as the optimiser seeks to maximise rather than minimise\n",
        "    return 1. - model['multi_error-mean'][-1]"
      ],
      "execution_count": null,
      "outputs": []
    },
    {
      "cell_type": "code",
      "metadata": {
        "id": "MhJr1bqpVaHl"
      },
      "source": [
        "from bayes_opt import BayesianOptimization"
      ],
      "execution_count": null,
      "outputs": []
    },
    {
      "cell_type": "code",
      "metadata": {
        "id": "CD5HntSiVaHl"
      },
      "source": [
        "# define the parameter search space\n",
        "space = {\n",
        "    'eta':(0.025,0.15),\n",
        "    'num_leaves':(2,16),\n",
        "    'bag_frac':(0.5,0.8),\n",
        "    'bag_freq':(1,5),\n",
        "    'feat_frac':(0.5,0.8)\n",
        "    }\n",
        "\n",
        "\n",
        "# set up the optimiser\n",
        "optimiser = BayesianOptimization(\n",
        "    f = cross_val,\n",
        "    pbounds = space,\n",
        "    verbose = 2,\n",
        "    random_state = 0)"
      ],
      "execution_count": null,
      "outputs": []
    },
    {
      "cell_type": "code",
      "metadata": {
        "id": "N9uGE5UtVaHl",
        "outputId": "87b985e1-dd53-416e-8680-2c06aff58a76"
      },
      "source": [
        "optimiser.maximize(\n",
        "    init_points=3,\n",
        "    n_iter=5,\n",
        ")"
      ],
      "execution_count": null,
      "outputs": [
        {
          "name": "stdout",
          "output_type": "stream",
          "text": [
            "|   iter    |  target   | bag_frac  | bag_freq  |    eta    | feat_frac | num_le... |\n",
            "-------------------------------------------------------------------------------------\n",
            "[50]\tcv_agg's multi_error: 0.0441667 + 0.00556596\n",
            "[100]\tcv_agg's multi_error: 0.0444444 + 0.00657342\n",
            "| \u001b[0m 6       \u001b[0m | \u001b[0m 0.9565  \u001b[0m | \u001b[0m 0.7375  \u001b[0m | \u001b[0m 3.116   \u001b[0m | \u001b[0m 0.09601 \u001b[0m | \u001b[0m 0.7777  \u001b[0m | \u001b[0m 2.995   \u001b[0m |\n",
            "[50]\tcv_agg's multi_error: 0.0427778 + 0.00427182\n",
            "[100]\tcv_agg's multi_error: 0.0409722 + 0.00564169\n",
            "[150]\tcv_agg's multi_error: 0.0402778 + 0.0056074\n",
            "[200]\tcv_agg's multi_error: 0.0406944 + 0.00518932\n",
            "| \u001b[95m 7       \u001b[0m | \u001b[95m 0.9604  \u001b[0m | \u001b[95m 0.5261  \u001b[0m | \u001b[95m 1.081   \u001b[0m | \u001b[95m 0.1291  \u001b[0m | \u001b[95m 0.7334  \u001b[0m | \u001b[95m 14.18   \u001b[0m |\n",
            "[50]\tcv_agg's multi_error: 0.0448611 + 0.00611111\n",
            "[100]\tcv_agg's multi_error: 0.0443056 + 0.0082449\n",
            "[150]\tcv_agg's multi_error: 0.0425 + 0.00690824\n",
            "[200]\tcv_agg's multi_error: 0.0426389 + 0.00637377\n",
            "| \u001b[0m 8       \u001b[0m | \u001b[0m 0.9586  \u001b[0m | \u001b[0m 0.7936  \u001b[0m | \u001b[0m 4.197   \u001b[0m | \u001b[0m 0.08268 \u001b[0m | \u001b[0m 0.7342  \u001b[0m | \u001b[0m 3.656   \u001b[0m |\n",
            "[50]\tcv_agg's multi_error: 0.0440278 + 0.00735718\n",
            "[100]\tcv_agg's multi_error: 0.04375 + 0.00655873\n",
            "| \u001b[0m 9       \u001b[0m | \u001b[0m 0.9568  \u001b[0m | \u001b[0m 0.7219  \u001b[0m | \u001b[0m 1.628   \u001b[0m | \u001b[0m 0.139   \u001b[0m | \u001b[0m 0.7309  \u001b[0m | \u001b[0m 3.181   \u001b[0m |\n",
            "[50]\tcv_agg's multi_error: 0.0436111 + 0.00673862\n",
            "[100]\tcv_agg's multi_error: 0.0420833 + 0.00774049\n",
            "[150]\tcv_agg's multi_error: 0.0420833 + 0.00632821\n",
            "| \u001b[0m 10      \u001b[0m | \u001b[0m 0.9586  \u001b[0m | \u001b[0m 0.6896  \u001b[0m | \u001b[0m 2.435   \u001b[0m | \u001b[0m 0.06291 \u001b[0m | \u001b[0m 0.7338  \u001b[0m | \u001b[0m 10.05   \u001b[0m |\n",
            "[50]\tcv_agg's multi_error: 0.04375 + 0.00789348\n",
            "[100]\tcv_agg's multi_error: 0.0438889 + 0.00804357\n",
            "[150]\tcv_agg's multi_error: 0.0429167 + 0.0080914\n",
            "[200]\tcv_agg's multi_error: 0.0426389 + 0.00640397\n",
            "[250]\tcv_agg's multi_error: 0.0419444 + 0.00755127\n",
            "[300]\tcv_agg's multi_error: 0.0418056 + 0.00659393\n",
            "| \u001b[0m 11      \u001b[0m | \u001b[0m 0.9587  \u001b[0m | \u001b[0m 0.7621  \u001b[0m | \u001b[0m 2.445   \u001b[0m | \u001b[0m 0.06559 \u001b[0m | \u001b[0m 0.6844  \u001b[0m | \u001b[0m 7.876   \u001b[0m |\n",
            "[50]\tcv_agg's multi_error: 0.0431944 + 0.00759965\n",
            "[100]\tcv_agg's multi_error: 0.0455556 + 0.00909272\n",
            "| \u001b[0m 12      \u001b[0m | \u001b[0m 0.9579  \u001b[0m | \u001b[0m 0.703   \u001b[0m | \u001b[0m 4.573   \u001b[0m | \u001b[0m 0.1497  \u001b[0m | \u001b[0m 0.677   \u001b[0m | \u001b[0m 4.914   \u001b[0m |\n",
            "[50]\tcv_agg's multi_error: 0.0455556 + 0.00634344\n",
            "[100]\tcv_agg's multi_error: 0.0451389 + 0.00640999\n",
            "[150]\tcv_agg's multi_error: 0.0448611 + 0.00698046\n",
            "| \u001b[0m 13      \u001b[0m | \u001b[0m 0.9563  \u001b[0m | \u001b[0m 0.6262  \u001b[0m | \u001b[0m 4.307   \u001b[0m | \u001b[0m 0.1288  \u001b[0m | \u001b[0m 0.7823  \u001b[0m | \u001b[0m 2.629   \u001b[0m |\n",
            "=====================================================================================\n"
          ]
        }
      ]
    },
    {
      "cell_type": "code",
      "metadata": {
        "id": "cuyb5q8hVaHm",
        "outputId": "889e9c31-8d0b-465e-fc98-f779f855b939"
      },
      "source": [
        "print(optimiser.max)"
      ],
      "execution_count": null,
      "outputs": [
        {
          "name": "stdout",
          "output_type": "stream",
          "text": [
            "{'target': 0.9604166666666667, 'params': {'bag_frac': 0.5261387899104623, 'bag_freq': 1.0808735897613029, 'eta': 0.12907748069349226, 'feat_frac': 0.7334470252849552, 'num_leaves': 14.180170075455468}}\n"
          ]
        }
      ]
    },
    {
      "cell_type": "code",
      "metadata": {
        "id": "d7nkg1L2VaHm",
        "outputId": "205f0d07-1945-4a11-b6f2-d36d3b6baaf6"
      },
      "source": [
        "RL_sg = classificador(w2v_modelo_skipg, bigram_reloaded, X_train, X_test, y_train, y_test)"
      ],
      "execution_count": null,
      "outputs": [
        {
          "name": "stdout",
          "output_type": "stream",
          "text": [
            "              precision    recall  f1-score   support\n",
            "\n",
            "        fake       0.95      0.96      0.95       743\n",
            "        true       0.95      0.94      0.95       697\n",
            "\n",
            "    accuracy                           0.95      1440\n",
            "   macro avg       0.95      0.95      0.95      1440\n",
            "weighted avg       0.95      0.95      0.95      1440\n",
            "\n"
          ]
        }
      ]
    },
    {
      "cell_type": "code",
      "metadata": {
        "id": "q0XIVr8OVaHm"
      },
      "source": [
        "import lightgbm as lgb\n",
        "def cross_val_sg(eta=0.1,num_leaves=8,bag_frac=0.8,bag_freq=5,feat_frac=0.8):\n",
        "\n",
        "    parameters = {\n",
        "        'objective': 'multiclass',\n",
        "        'metric': 'multi_error',\n",
        "        'num_class':10,\n",
        "        'learning_rate': eta,\n",
        "        'num_leaves': int(num_leaves),\n",
        "        'bagging_fraction': bag_frac,\n",
        "        'bagging_freq': int(bag_freq),\n",
        "        'feature_fraction': feat_frac,\n",
        "        'force_col_wise':True,\n",
        "        'verbosity':-1\n",
        "        }\n",
        "\n",
        "    model = lgb.cv(params = parameters,\n",
        "                    train_set = dtrain_sg,\n",
        "                    num_boost_round=2000,\n",
        "                    stratified=False,\n",
        "                    nfold = 5,\n",
        "                    verbose_eval=50,\n",
        "                    seed = 23,\n",
        "                    early_stopping_rounds=75)\n",
        "\n",
        "\n",
        "    return 1. - model['multi_error-mean'][-1]\n",
        "\n",
        "optimiser_sg = BayesianOptimization(\n",
        "    f = cross_val,\n",
        "    pbounds = space,\n",
        "    verbose = 2,\n",
        "    random_state = 0)"
      ],
      "execution_count": null,
      "outputs": []
    },
    {
      "cell_type": "code",
      "metadata": {
        "id": "mqCkV4iWVaHn",
        "outputId": "4d8568c6-4d1b-4517-faeb-cc1ebdd2fe22"
      },
      "source": [
        "optimiser_sg.maximize(\n",
        "    init_points=3,\n",
        "    n_iter=5,\n",
        ")"
      ],
      "execution_count": null,
      "outputs": [
        {
          "name": "stdout",
          "output_type": "stream",
          "text": [
            "|   iter    |  target   | bag_frac  | bag_freq  |    eta    | feat_frac | num_le... |\n",
            "-------------------------------------------------------------------------------------\n",
            "[50]\tcv_agg's multi_error: 0.045 + 0.006233\n",
            "[100]\tcv_agg's multi_error: 0.0436111 + 0.00535038\n",
            "[150]\tcv_agg's multi_error: 0.0413889 + 0.00505754\n",
            "[200]\tcv_agg's multi_error: 0.0408333 + 0.00706015\n",
            "[250]\tcv_agg's multi_error: 0.0409722 + 0.00745356\n",
            "| \u001b[0m 1       \u001b[0m | \u001b[0m 0.9603  \u001b[0m | \u001b[0m 0.6646  \u001b[0m | \u001b[0m 3.861   \u001b[0m | \u001b[0m 0.1003  \u001b[0m | \u001b[0m 0.6635  \u001b[0m | \u001b[0m 7.931   \u001b[0m |\n",
            "[50]\tcv_agg's multi_error: 0.0443056 + 0.00670993\n",
            "| \u001b[0m 2       \u001b[0m | \u001b[0m 0.9569  \u001b[0m | \u001b[0m 0.6938  \u001b[0m | \u001b[0m 2.75    \u001b[0m | \u001b[0m 0.1365  \u001b[0m | \u001b[0m 0.7891  \u001b[0m | \u001b[0m 7.368   \u001b[0m |\n",
            "[50]\tcv_agg's multi_error: 0.0441667 + 0.00556596\n",
            "[100]\tcv_agg's multi_error: 0.0444444 + 0.00657342\n",
            "| \u001b[0m 3       \u001b[0m | \u001b[0m 0.9565  \u001b[0m | \u001b[0m 0.7375  \u001b[0m | \u001b[0m 3.116   \u001b[0m | \u001b[0m 0.09601 \u001b[0m | \u001b[0m 0.7777  \u001b[0m | \u001b[0m 2.995   \u001b[0m |\n",
            "[50]\tcv_agg's multi_error: 0.0444444 + 0.00734931\n",
            "[100]\tcv_agg's multi_error: 0.0436111 + 0.00584984\n",
            "[150]\tcv_agg's multi_error: 0.0419444 + 0.00686904\n",
            "[200]\tcv_agg's multi_error: 0.0411111 + 0.00609214\n",
            "[250]\tcv_agg's multi_error: 0.0406944 + 0.00565194\n",
            "[300]\tcv_agg's multi_error: 0.04125 + 0.0047426\n",
            "| \u001b[0m 4       \u001b[0m | \u001b[0m 0.9601  \u001b[0m | \u001b[0m 0.6299  \u001b[0m | \u001b[0m 2.779   \u001b[0m | \u001b[0m 0.02615 \u001b[0m | \u001b[0m 0.7297  \u001b[0m | \u001b[0m 12.68   \u001b[0m |\n",
            "[50]\tcv_agg's multi_error: 0.0431944 + 0.00682395\n",
            "[100]\tcv_agg's multi_error: 0.0415278 + 0.00601246\n",
            "[150]\tcv_agg's multi_error: 0.0429167 + 0.00479921\n",
            "| \u001b[0m 5       \u001b[0m | \u001b[0m 0.959   \u001b[0m | \u001b[0m 0.7026  \u001b[0m | \u001b[0m 1.893   \u001b[0m | \u001b[0m 0.118   \u001b[0m | \u001b[0m 0.6467  \u001b[0m | \u001b[0m 7.433   \u001b[0m |\n",
            "[50]\tcv_agg's multi_error: 0.0429167 + 0.00676718\n",
            "[100]\tcv_agg's multi_error: 0.0423611 + 0.00562457\n",
            "[150]\tcv_agg's multi_error: 0.0426389 + 0.00646393\n",
            "[200]\tcv_agg's multi_error: 0.0429167 + 0.00604446\n",
            "| \u001b[0m 6       \u001b[0m | \u001b[0m 0.9592  \u001b[0m | \u001b[0m 0.611   \u001b[0m | \u001b[0m 2.783   \u001b[0m | \u001b[0m 0.04156 \u001b[0m | \u001b[0m 0.6462  \u001b[0m | \u001b[0m 12.68   \u001b[0m |\n",
            "[50]\tcv_agg's multi_error: 0.0433333 + 0.0078886\n",
            "[100]\tcv_agg's multi_error: 0.04375 + 0.00555556\n",
            "[150]\tcv_agg's multi_error: 0.0422222 + 0.00533232\n",
            "[200]\tcv_agg's multi_error: 0.0426389 + 0.00612687\n",
            "| \u001b[0m 7       \u001b[0m | \u001b[0m 0.9583  \u001b[0m | \u001b[0m 0.7491  \u001b[0m | \u001b[0m 1.898   \u001b[0m | \u001b[0m 0.1046  \u001b[0m | \u001b[0m 0.6175  \u001b[0m | \u001b[0m 7.424   \u001b[0m |\n",
            "[50]\tcv_agg's multi_error: 0.0440278 + 0.00665508\n",
            "[100]\tcv_agg's multi_error: 0.0445833 + 0.00685216\n",
            "| \u001b[0m 8       \u001b[0m | \u001b[0m 0.9581  \u001b[0m | \u001b[0m 0.6899  \u001b[0m | \u001b[0m 3.749   \u001b[0m | \u001b[0m 0.103   \u001b[0m | \u001b[0m 0.7261  \u001b[0m | \u001b[0m 8.021   \u001b[0m |\n",
            "=====================================================================================\n"
          ]
        }
      ]
    },
    {
      "cell_type": "code",
      "metadata": {
        "id": "TIkog1UWVaHn",
        "outputId": "1bc80de3-1914-4089-a7f2-36ae8c5ec0ef"
      },
      "source": [
        "print(optimiser_sg.max)"
      ],
      "execution_count": null,
      "outputs": [
        {
          "name": "stdout",
          "output_type": "stream",
          "text": [
            "{'target': 0.9602777777777778, 'params': {'bag_frac': 0.6646440511781975, 'bag_freq': 3.860757465489678, 'eta': 0.10034542200895549, 'feat_frac': 0.6634649548990691, 'num_leaves': 7.931167190744666}}\n"
          ]
        }
      ]
    },
    {
      "cell_type": "markdown",
      "metadata": {
        "id": "umg8CtXsVaHn"
      },
      "source": [
        "## Modelo final"
      ]
    },
    {
      "cell_type": "code",
      "metadata": {
        "id": "h3SHYauwVaHn",
        "outputId": "1ad60904-a2cb-4744-c103-b88ddd15e211"
      },
      "source": [
        "parameters = {\n",
        "        'objective': 'multiclass',\n",
        "        'metric': 'multi_error',\n",
        "        'num_class':10,\n",
        "        'learning_rate': 0.12907748069349226,\n",
        "        'num_leaves': int(14.180170075455468),\n",
        "        'bagging_fraction': 0.5261387899104623,\n",
        "        'bagging_freq': int(1.0808735897613029),\n",
        "        'feature_fraction': 0.7334470252849552,\n",
        "        'force_col_wise':True,\n",
        "        'verbosity':-1\n",
        "        }\n",
        "modelo_final = lgb.cv(params = parameters,\n",
        "                    train_set = dtrain_cbow,\n",
        "                    num_boost_round=2000,\n",
        "                    stratified=False,\n",
        "                    nfold = 5,\n",
        "                    verbose_eval=50,\n",
        "                    seed = 23,\n",
        "                    early_stopping_rounds=75)"
      ],
      "execution_count": null,
      "outputs": [
        {
          "name": "stdout",
          "output_type": "stream",
          "text": [
            "[50]\tcv_agg's multi_error: 0.0427778 + 0.00427182\n",
            "[100]\tcv_agg's multi_error: 0.0409722 + 0.00564169\n",
            "[150]\tcv_agg's multi_error: 0.0402778 + 0.0056074\n",
            "[200]\tcv_agg's multi_error: 0.0406944 + 0.00518932\n"
          ]
        }
      ]
    },
    {
      "cell_type": "code",
      "metadata": {
        "id": "yBVXZtmuVaHo"
      },
      "source": [
        "# salvar o modelo\n",
        "import pickle\n",
        "with open('modelo_lgbm_cbow.pkl', 'wb') as file:\n",
        "    pickle.dump(modelo_final, file)"
      ],
      "execution_count": null,
      "outputs": []
    },
    {
      "cell_type": "code",
      "metadata": {
        "id": "wRQx2zmbVaHo"
      },
      "source": [],
      "execution_count": null,
      "outputs": []
    }
  ]
}